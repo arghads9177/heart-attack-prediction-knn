{
 "cells": [
  {
   "cell_type": "markdown",
   "id": "6da26d63-f416-4cb1-b1ea-97c0ec76f445",
   "metadata": {},
   "source": [
    "# Heart Attack Analysis and Prediction\n",
    "\n",
    "## About Dataset\n",
    "\n",
    "This dataset contains medical data of different patients having various health inicators using which we can analyze and predict the risk of heart attacks more accurately.\n",
    "\n",
    "## Source\n",
    "\n",
    "This dataset is present in Kaggle in the following link:\n",
    "> https://www.kaggle.com/datasets/rashikrahmanpritom/heart-attack-analysis-prediction-dataset\n",
    "\n",
    "## Data Dictionary\n",
    "\n",
    "The dataset includes the following features:\n",
    "\n",
    "- **Age**: Age of the patient.\n",
    "- **Sex**: Sex of the patient\n",
    "- **cp**: Chest pain type\n",
    "  - Value 1: Typical angina\n",
    "  - Value 2: Atypical angina\n",
    "  - Value 3: Non-anginal pain\n",
    "  - Value 4: Asymptomatic\n",
    "- **trtbps**: Resting blood pressure (in mm Hg)\n",
    "- **chol**: Cholesterol in mg/dl fetched via BMI sensor\n",
    "- **fbs**: Fasting blood sugar > 120 mg/dl (1 = true; 0 = false)\n",
    "- **rest_ecg**: Resting electrocardiographic results\n",
    "  - Value 0: Normal\n",
    "  - Value 1: Having ST-T wave abnormality (T wave inversions and/or ST elevation or depression of > 0.05 mV)\n",
    "  - Value 2: Showing probable or definite left ventricular hypertrophy by Estes' criteria\n",
    "- **thalachh**: Maximum heart rate achieved\n",
    "- **exng**: Exercise-induced angina (1 = yes; 0 = no)\n",
    "- **oldpeak**: Numeric Data. This represents ST depression induced by exercise relative to rest for the patients.\n",
    "- **slp**: This represents the slope of the peak exercise ST segment for the patients. Values are 0,1 and 2.\n",
    "- **caa**: Number of major vessels (0-3)\n",
    "- **thal**: Categorical Data. The thalassemia level in blood of patients. Values are 0, 1, 2 and 3.\n",
    "- **output**: Heart attack risk indicator (0 = less chance of heart attack, 1 = more chance of heart attack)\n",
    "\n",
    "## Problem Statements\n",
    "\n",
    "1. **Model Training**: The objective of model training is to train the model with this data.\n",
    "2. **Model Evaluation**: Evaluate the performance of the model with different metrics such as accuracy, precision, recall and f1 score.\n",
    "3. **Model Optimization**: The objective of model optimization is to find the optimal model with hyperparameter tuning to avoid overfitting or underfitting and improve the performace of the model."
   ]
  },
  {
   "cell_type": "markdown",
   "id": "6cf6eeaa-10ad-40b2-ac77-5326c76ca9aa",
   "metadata": {},
   "source": [
    "### Load Libraries"
   ]
  },
  {
   "cell_type": "code",
   "execution_count": 1,
   "id": "7f0d4008-242a-4f9c-a354-ad8c05b97a0f",
   "metadata": {},
   "outputs": [],
   "source": [
    "# General Libraries\n",
    "import pandas as pd\n",
    "import numpy as np\n",
    "import os\n",
    "import warnings\n",
    "\n",
    "# Preprocessing\n",
    "from sklearn.preprocessing import StandardScaler\n",
    "from sklearn.model_selection import train_test_split\n",
    "\n",
    "# Model\n",
    "from sklearn.neighbors import KNeighborsClassifier\n",
    "\n",
    "# Evaluation\n",
    "from sklearn.metrics import accuracy_score, precision_score, recall_score, f1_score\n",
    "\n",
    "# Hyperparameter Tuning\n",
    "from sklearn.model_selection import GridSearchCV\n",
    "\n",
    "# Model Save\n",
    "import pickle"
   ]
  },
  {
   "cell_type": "markdown",
   "id": "7ac75e45-b977-4214-bf5f-d5173bf06dcb",
   "metadata": {},
   "source": [
    "### Settings"
   ]
  },
  {
   "cell_type": "code",
   "execution_count": 18,
   "id": "9b3f6a09-4ae5-4d1c-b399-e29a909e6d09",
   "metadata": {},
   "outputs": [],
   "source": [
    "# Warning\n",
    "warnings.filterwarnings(\"ignore\")\n",
    "\n",
    "# Path\n",
    "data_path = \"../data\"\n",
    "model_path = \"../models\"\n",
    "# csv_path = os.path.join(data_path, \"heart_wo.csv\")\n",
    "# csv_path = os.path.join(data_path, \"heart.csv\")\n",
    "csv_path = os.path.join(data_path, \"heart_selected.csv\")"
   ]
  },
  {
   "cell_type": "markdown",
   "id": "292b2986-1ff2-459a-912f-0b6f96b4d1f1",
   "metadata": {},
   "source": [
    "### Load Data"
   ]
  },
  {
   "cell_type": "code",
   "execution_count": 19,
   "id": "3cceb783-7bba-46e9-8fb0-c3a5dc76eb49",
   "metadata": {},
   "outputs": [],
   "source": [
    "df = pd.read_csv(csv_path)"
   ]
  },
  {
   "cell_type": "code",
   "execution_count": 20,
   "id": "72d776de-0faf-45d0-b5bd-83c001391130",
   "metadata": {},
   "outputs": [
    {
     "data": {
      "text/html": [
       "<div>\n",
       "<style scoped>\n",
       "    .dataframe tbody tr th:only-of-type {\n",
       "        vertical-align: middle;\n",
       "    }\n",
       "\n",
       "    .dataframe tbody tr th {\n",
       "        vertical-align: top;\n",
       "    }\n",
       "\n",
       "    .dataframe thead th {\n",
       "        text-align: right;\n",
       "    }\n",
       "</style>\n",
       "<table border=\"1\" class=\"dataframe\">\n",
       "  <thead>\n",
       "    <tr style=\"text-align: right;\">\n",
       "      <th></th>\n",
       "      <th>age</th>\n",
       "      <th>sex</th>\n",
       "      <th>cp</th>\n",
       "      <th>trtbps</th>\n",
       "      <th>chol</th>\n",
       "      <th>thalachh</th>\n",
       "      <th>exng</th>\n",
       "      <th>oldpeak</th>\n",
       "      <th>slp</th>\n",
       "      <th>caa</th>\n",
       "      <th>thall</th>\n",
       "      <th>output</th>\n",
       "    </tr>\n",
       "  </thead>\n",
       "  <tbody>\n",
       "    <tr>\n",
       "      <th>0</th>\n",
       "      <td>63</td>\n",
       "      <td>1</td>\n",
       "      <td>3</td>\n",
       "      <td>145</td>\n",
       "      <td>233</td>\n",
       "      <td>150</td>\n",
       "      <td>0</td>\n",
       "      <td>2.3</td>\n",
       "      <td>0</td>\n",
       "      <td>0</td>\n",
       "      <td>1</td>\n",
       "      <td>1</td>\n",
       "    </tr>\n",
       "    <tr>\n",
       "      <th>1</th>\n",
       "      <td>37</td>\n",
       "      <td>1</td>\n",
       "      <td>2</td>\n",
       "      <td>130</td>\n",
       "      <td>250</td>\n",
       "      <td>187</td>\n",
       "      <td>0</td>\n",
       "      <td>3.5</td>\n",
       "      <td>0</td>\n",
       "      <td>0</td>\n",
       "      <td>2</td>\n",
       "      <td>1</td>\n",
       "    </tr>\n",
       "    <tr>\n",
       "      <th>2</th>\n",
       "      <td>41</td>\n",
       "      <td>0</td>\n",
       "      <td>1</td>\n",
       "      <td>130</td>\n",
       "      <td>204</td>\n",
       "      <td>172</td>\n",
       "      <td>0</td>\n",
       "      <td>1.4</td>\n",
       "      <td>2</td>\n",
       "      <td>0</td>\n",
       "      <td>2</td>\n",
       "      <td>1</td>\n",
       "    </tr>\n",
       "    <tr>\n",
       "      <th>3</th>\n",
       "      <td>56</td>\n",
       "      <td>1</td>\n",
       "      <td>1</td>\n",
       "      <td>120</td>\n",
       "      <td>236</td>\n",
       "      <td>178</td>\n",
       "      <td>0</td>\n",
       "      <td>0.8</td>\n",
       "      <td>2</td>\n",
       "      <td>0</td>\n",
       "      <td>2</td>\n",
       "      <td>1</td>\n",
       "    </tr>\n",
       "    <tr>\n",
       "      <th>4</th>\n",
       "      <td>57</td>\n",
       "      <td>0</td>\n",
       "      <td>0</td>\n",
       "      <td>120</td>\n",
       "      <td>354</td>\n",
       "      <td>163</td>\n",
       "      <td>1</td>\n",
       "      <td>0.6</td>\n",
       "      <td>2</td>\n",
       "      <td>0</td>\n",
       "      <td>2</td>\n",
       "      <td>1</td>\n",
       "    </tr>\n",
       "  </tbody>\n",
       "</table>\n",
       "</div>"
      ],
      "text/plain": [
       "   age  sex  cp  trtbps  chol  thalachh  exng  oldpeak  slp  caa  thall  \\\n",
       "0   63    1   3     145   233       150     0      2.3    0    0      1   \n",
       "1   37    1   2     130   250       187     0      3.5    0    0      2   \n",
       "2   41    0   1     130   204       172     0      1.4    2    0      2   \n",
       "3   56    1   1     120   236       178     0      0.8    2    0      2   \n",
       "4   57    0   0     120   354       163     1      0.6    2    0      2   \n",
       "\n",
       "   output  \n",
       "0       1  \n",
       "1       1  \n",
       "2       1  \n",
       "3       1  \n",
       "4       1  "
      ]
     },
     "execution_count": 20,
     "metadata": {},
     "output_type": "execute_result"
    }
   ],
   "source": [
    "df.head()"
   ]
  },
  {
   "cell_type": "markdown",
   "id": "ad8a8e13-d1ad-486d-85aa-d1603a296a75",
   "metadata": {},
   "source": [
    "### Data Preparation for Training"
   ]
  },
  {
   "cell_type": "code",
   "execution_count": 21,
   "id": "e8997131-dfb7-47df-b49e-8d81e6ae1b99",
   "metadata": {},
   "outputs": [],
   "source": [
    "# Separate the input and output features\n",
    "X = df.iloc[:, : -1]\n",
    "y = df.iloc[:, -1]"
   ]
  },
  {
   "cell_type": "code",
   "execution_count": 22,
   "id": "0be0746f-184b-4f2c-b1e2-042d1b64c36d",
   "metadata": {},
   "outputs": [],
   "source": [
    "# Split Training and testing data\n",
    "X_train, X_test, y_train, y_test = train_test_split(X, y, test_size= 0.2, random_state= 42)"
   ]
  },
  {
   "cell_type": "code",
   "execution_count": 23,
   "id": "d0bf5452-7f34-4ed9-81aa-a932b121eb2d",
   "metadata": {},
   "outputs": [],
   "source": [
    "# Scale the data\n",
    "scaler = StandardScaler()\n",
    "X_s = scaler.fit_transform(X)\n",
    "X_train_s = scaler.fit_transform(X_train)\n",
    "X_test_s = scaler.transform(X_test)"
   ]
  },
  {
   "cell_type": "code",
   "execution_count": 48,
   "id": "befcd50f-0ff2-4ca3-ae64-e30a6d9a19c8",
   "metadata": {},
   "outputs": [],
   "source": [
    "# Train a model and evaluate\n",
    "def train_evaluate(model):\n",
    "    # Train the model\n",
    "    model.fit(X_train_s, y_train)\n",
    "\n",
    "    # Predict Train\n",
    "    y_train_pred = model.predict(X_train_s)\n",
    "    # Predict test\n",
    "    y_test_pred = model.predict(X_test_s)\n",
    "\n",
    "    # Print evaluation metrics for train\n",
    "    print(\"=\" * 60)\n",
    "    print(\"Tarining Scores\")\n",
    "    print(\"=\" * 60)\n",
    "    print(f\"Accuracy: {accuracy_score(y_train, y_train_pred): .3f}\")\n",
    "    print(f\"Precision: {precision_score(y_train, y_train_pred): .3f}\")\n",
    "    print(f\"Recall: {recall_score(y_train, y_train_pred): .3f}\")\n",
    "    print(f\"F1: {f1_score(y_train, y_train_pred): .3f}\")\n",
    "    # Print evaluation metrics for test\n",
    "    print(\"=\" * 60)\n",
    "    print(\"Testing Scores\")\n",
    "    print(\"=\" * 60)\n",
    "    print(f\"Accuracy: {accuracy_score(y_test, y_test_pred): .3f}\")\n",
    "    print(f\"Precision: {precision_score(y_test, y_test_pred): .3f}\")\n",
    "    print(f\"Recall: {recall_score(y_test, y_test_pred): .3f}\")\n",
    "    print(f\"F1: {f1_score(y_test, y_test_pred): .3f}\")"
   ]
  },
  {
   "cell_type": "code",
   "execution_count": 49,
   "id": "804586a3-c359-40be-a909-a5ac700e7e5f",
   "metadata": {},
   "outputs": [
    {
     "name": "stdout",
     "output_type": "stream",
     "text": [
      "============================================================\n",
      "Tarining Scores\n",
      "============================================================\n",
      "Accuracy:  0.868\n",
      "Precision:  0.880\n",
      "Recall:  0.880\n",
      "F1:  0.880\n",
      "============================================================\n",
      "Testing Scores\n",
      "============================================================\n",
      "Accuracy:  0.869\n",
      "Precision:  0.900\n",
      "Recall:  0.844\n",
      "F1:  0.871\n"
     ]
    }
   ],
   "source": [
    "# Try KNN\n",
    "knnc = KNeighborsClassifier()\n",
    "train_evaluate(knnc)"
   ]
  },
  {
   "cell_type": "markdown",
   "id": "85466b99-e549-447e-be72-6f350b13fd38",
   "metadata": {},
   "source": [
    "### Insights\n",
    "\n",
    "The evaluation metrics for the KNN classifier on the Chances of Heart Attack classification task show good overall performance, especially in terms of generalization to the testing data. Here’s a detailed analysis:\n",
    "\n",
    "#### Training Metrics (High scores):\n",
    "\n",
    "- **Accuracy (0.87)**: The model correctly classifies **86.8%** of the training data. This indicates that the model has learned the patterns in the training data well, but there is room for improvement, especially in recall.\n",
    "- **Precision (0.88)**: The model is highly precise on the training data, correctly identifying **88%** of the patients predicted to have chances of heart attack as actual positives. This means the model is making very few false positive predictions.\n",
    "- **Recall (0.88)**: The recall of **88%** indicates that the model is correctly identifying **88%** of the actual positive cases (patients with chances of heart attack). However, it is missing about **12%** of the true positive cases (false negatives), which is a concern for a health-related classification task.\n",
    "- **F1 Score (0.88)**: The F1 score, which balances precision and recall, is **88%**, indicating solid performance. However, it also highlights that recall is pulling down the overall score compared to the very high precision.\n",
    "\n",
    "#### Testing Metrics (High score):\n",
    "\n",
    "- **Accuracy (0.87)**: The model correctly classifies **86.9%** of the testing data, a strong performance and an improvement over the training accuracy. This suggests the model generalizes well to unseen data.\n",
    "- **Precision (90)**: Precision is high (**90%**) on the test data, meaning that all patients the model predicts as having chances of heart attack actually have the chances.\n",
    "- **Recall (0.84)**: The recall on the test set is **84.4%**, meaning the model correctly identifies **84%** of the actual positive cases. There is a room to increase recall so that fewer cases of actual chances of heart attack are missed.\n",
    "- **F1 Score (0.87)**: The F1 score on the test data is **987.1%**, reflecting a well-balanced model that handles both precision and recall well.\n",
    "\n",
    "#### Analysis of Performance:\n",
    "\n",
    "- **High Precision, Lower Recall:** Both in the training and testing results, precision is significantly higher than recall. This indicates that while the model is very good at making correct positive predictions (few false positives), it is still missing a proportion of actual positive cases (some false negatives). In the context of cheart attack detection, high precision is critical because false positives can lead to unnecessary medical interventions. However, recall is equally important because failing to detect actual cases of heart attack (false negatives) can have serious consequences.\n",
    "- **Generalization:** The model’s testing performance is strong and even slightly better than the training performance. This suggests that the model generalizes well and is not overfitting.\n",
    "- **F1 Score Balance:** The F1 score, which balances precision and recall, is quite high in both training (**0.88**) and testing (**0.87**). The high F1 score suggests that the model's trade-off between precision and recall is more favorable when generalized to unseen data.\n",
    "- **Room for Recall Improvement:** Although the model performs well overall, the relatively lower recall, especially on the testing data (**0.84**), indicates that there are still some missed cases of heart attack (false negatives). Given the context of heart attack classification, improving recall would likely be a priority.\n"
   ]
  },
  {
   "cell_type": "markdown",
   "id": "5d60f4c4-6c16-46c6-b2b2-32a0f6878a0a",
   "metadata": {},
   "source": [
    "### Model Optimization\n",
    "\n",
    "Find the optimal model using hyperparameter tuning."
   ]
  },
  {
   "cell_type": "code",
   "execution_count": 50,
   "id": "57081724-dcf7-4bf0-a326-d2a85ca7a88a",
   "metadata": {},
   "outputs": [],
   "source": [
    "# Tune the hyperparameter using GridSearchCV and find the best parameters\n",
    "def tune_hyperparameter(model, param_dict):\n",
    "    # Define Hyperparameter\n",
    "    gsc = GridSearchCV(estimator = model,\n",
    "                      param_grid= param_dict,\n",
    "                      cv=8,\n",
    "                      verbose= 1,\n",
    "                      scoring= \"recall\")\n",
    "    # Train the model\n",
    "    gsc.fit(X_s, y)\n",
    "    \n",
    "    print(f\"Best Score: {gsc.best_score_}\")\n",
    "    return gsc.best_params_"
   ]
  },
  {
   "cell_type": "code",
   "execution_count": 51,
   "id": "2f64a243-1c0c-4f6d-809b-33626aa4d99e",
   "metadata": {},
   "outputs": [],
   "source": [
    "# Define hyperparameter for KNN\n",
    "kn_dict = {\n",
    "    \"n_neighbors\": range(10, 25),\n",
    "    \"weights\": [\"uniform\", \"distance\"],\n",
    "    \"metric\": [\"mikowaski\", \"euclidean\"]\n",
    "}"
   ]
  },
  {
   "cell_type": "code",
   "execution_count": 52,
   "id": "a8dbc34c-969b-4305-875c-6e32bd118bfb",
   "metadata": {},
   "outputs": [
    {
     "name": "stdout",
     "output_type": "stream",
     "text": [
      "Fitting 8 folds for each of 60 candidates, totalling 480 fits\n",
      "Best Score: 0.9098214285714286\n",
      "{'metric': 'euclidean', 'n_neighbors': 19, 'weights': 'uniform'}\n"
     ]
    }
   ],
   "source": [
    "# Hyperperameter Tuning for KNN\n",
    "knnht = KNeighborsClassifier()\n",
    "best_params= tune_hyperparameter(knnht, kn_dict)\n",
    "print(best_params)"
   ]
  },
  {
   "cell_type": "code",
   "execution_count": 53,
   "id": "6d472e0d-5777-4997-bbae-65785aa4f13c",
   "metadata": {},
   "outputs": [
    {
     "name": "stdout",
     "output_type": "stream",
     "text": [
      "============================================================\n",
      "Tarining Scores\n",
      "============================================================\n",
      "Accuracy:  0.839\n",
      "Precision:  0.813\n",
      "Recall:  0.917\n",
      "F1:  0.862\n",
      "============================================================\n",
      "Testing Scores\n",
      "============================================================\n",
      "Accuracy:  0.902\n",
      "Precision:  0.906\n",
      "Recall:  0.906\n",
      "F1:  0.906\n"
     ]
    }
   ],
   "source": [
    "# Build with best parameters\n",
    "knnmodel = KNeighborsClassifier(**best_params)\n",
    "train_evaluate(knnmodel)"
   ]
  },
  {
   "cell_type": "markdown",
   "id": "fb0d2189-b1cf-4b2a-a31a-e38649c2f20a",
   "metadata": {},
   "source": [
    "### Conclusions\n",
    "\n",
    "After hyperparameter tuning of the KNN classifier for heart attack classification, the evaluation metrics are as follows:\n",
    "\n",
    "#### Training Scores:\n",
    "\n",
    "- **Accuracy(0.84):** The model correctly classifies **83.9%** of the samples on the training data. This shows a solid performance on the training set, though it’s not perfect, which suggests the model is not overfitting.\n",
    "- **Precision (0.81):** Out of all positive (heart attack) predictions made by the model, **81.3%** were actual heart attack cases. The precision score indicates that the model produces a fair number of false positives (misclassifying non-heart attack cases as heart attacks).\n",
    "- **Recall (0.92):** The model identifies **91.7%** of the actual heart attack cases. This high recall shows the model does well in minimizing false negatives (i.e., not missing heart attack cases), which is critical in medical applications.\n",
    "- **F1 Score (0.86):** The F1 score of **0.862** represents a balance between precision and recall, suggesting the model maintains a strong overall performance on the training data.\n",
    "\n",
    "#### Testing Scores:\n",
    "\n",
    "- **Accuracy (0.90):** The model achieves **90.2%** accuracy on the test data, which is a good improvement over the training accuracy (**83.9%**). This suggests the model generalizes well and performs even better on unseen data.\n",
    "- **Precision (0.906):** The precision on the test data is higher than on the training data, indicating that **90.6%** of the positive predictions are true heart attack cases. The model now produces fewer false positives compared to the training set, meaning it is more confident and correct in predicting heart attacks.\n",
    "- **Recall (0.91):** The recall on the test data matches the precision, meaning the model identifies **90.6%** of the actual heart attack cases. This shows consistent performance in terms of recall across both the training and testing sets.\n",
    "- **F1 Score: 0.91):** The F1 score remains high (**0.906**), indicating a great balance between precision and recall. The model performs well in both avoiding false positives and identifying true heart attack cases on the test data.\n",
    "\n",
    "#### Summary\n",
    "\n",
    "- **Improved Generalization:** After hyperparameter tuning, the model shows significant improvement in generalization. The test accuracy (**90.2%**) is higher than the training accuracy (**83.9%**), which is unusual but possible when the model is able to generalize well to unseen data. This could indicate that the KNN model was well-tuned to avoid overfitting.\n",
    "\n",
    "- **Balanced Precision and Recall:** Both precision and recall are high and balanced on the test set (**0.906**). The model is now more reliable at both catching heart attack cases and minimizing false positives, making it suitable for medical applications where both metrics are important.\n",
    "\n",
    "- **Better Performance on Testing Data:** The higher accuracy, precision, recall, and F1 score on the test set show that the model now performs better on unseen data. This could be because hyperparameter tuning found a good balance that allows the model to perform well across different distributions of the data."
   ]
  },
  {
   "cell_type": "code",
   "execution_count": null,
   "id": "510fc385-4026-4980-a946-610183154d16",
   "metadata": {},
   "outputs": [],
   "source": []
  }
 ],
 "metadata": {
  "kernelspec": {
   "display_name": "Python 3 (ipykernel)",
   "language": "python",
   "name": "python3"
  },
  "language_info": {
   "codemirror_mode": {
    "name": "ipython",
    "version": 3
   },
   "file_extension": ".py",
   "mimetype": "text/x-python",
   "name": "python",
   "nbconvert_exporter": "python",
   "pygments_lexer": "ipython3",
   "version": "3.11.9"
  },
  "widgets": {
   "application/vnd.jupyter.widget-state+json": {
    "state": {},
    "version_major": 2,
    "version_minor": 0
   }
  }
 },
 "nbformat": 4,
 "nbformat_minor": 5
}
